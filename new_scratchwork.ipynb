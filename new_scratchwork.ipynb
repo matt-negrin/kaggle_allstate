{
 "cells": [
  {
   "cell_type": "markdown",
   "metadata": {},
   "source": [
    "### All prep through regression"
   ]
  },
  {
   "cell_type": "code",
   "execution_count": 14,
   "metadata": {
    "collapsed": false
   },
   "outputs": [],
   "source": [
    "import pandas as pd\n",
    "from clean_data import load_dataframe_from_csv\n",
    "from clean_data import cleaned_dataframes_from_dataframe\n",
    "from regression import fit\n",
    "import category_encoders as ce"
   ]
  },
  {
   "cell_type": "code",
   "execution_count": 15,
   "metadata": {
    "collapsed": false
   },
   "outputs": [],
   "source": [
    "dataframe = load_dataframe_from_csv()"
   ]
  },
  {
   "cell_type": "code",
   "execution_count": 12,
   "metadata": {
    "collapsed": true
   },
   "outputs": [
    {
     "name": "stderr",
     "output_type": "stream",
     "text": [
      "/Users/matthew.negrin/anaconda2/envs/py3/lib/python3.5/site-packages/patsy/contrasts.py:267: RuntimeWarning: overflow encountered in power\n",
      "  raw_poly = scores.reshape((-1, 1)) ** np.arange(n).reshape((1, -1))\n"
     ]
    },
    {
     "name": "stdout",
     "output_type": "stream",
     "text": [
      "              cont1         cont2         cont3         cont4         cont5  \\\n",
      "count  1.883180e+05  1.883180e+05  1.883180e+05  1.883180e+05  1.883180e+05   \n",
      "mean  -5.761524e-16  7.341699e-16 -3.563316e-16 -4.007033e-17 -3.075832e-16   \n",
      "std    1.000003e+00  1.000003e+00  1.000003e+00  1.000003e+00  1.000003e+00   \n",
      "min   -2.631881e+00 -2.442261e+00 -2.455589e+00 -1.490316e+00 -9.868842e-01   \n",
      "25%   -7.875273e-01 -7.184773e-01 -8.013468e-01 -7.783474e-01 -9.868842e-01   \n",
      "50%   -9.634084e-02  2.345240e-01  1.438494e-01 -1.842255e-01 -3.117298e-01   \n",
      "75%    6.930871e-01  8.425272e-01  6.694845e-01  7.584762e-01  7.457784e-01   \n",
      "max    2.617323e+00  1.715558e+00  2.203481e+00  2.188845e+00  2.374086e+00   \n",
      "\n",
      "              cont6         cont7         cont8         cont9        cont10  \\\n",
      "count  1.883180e+05  1.883180e+05  1.883180e+05  1.883180e+05  1.883180e+05   \n",
      "mean   2.799641e-17 -2.746817e-17 -2.940000e-16 -2.595893e-16 -4.794856e-16   \n",
      "std    1.000003e+00  1.000003e+00  1.000003e+00  1.000003e+00  1.000003e+00   \n",
      "min   -2.329891e+00 -2.328204e+00 -1.251730e+00 -2.672174e+00 -2.679556e+00   \n",
      "25%   -7.543139e-01 -7.553681e-01 -8.709303e-01 -6.965570e-01 -7.181437e-01   \n",
      "50%   -2.435770e-01 -2.616155e-01 -2.276036e-01 -2.425212e-01 -1.983893e-01   \n",
      "75%    7.993124e-01  5.944241e-01  6.878805e-01  4.476154e-01  6.268911e-01   \n",
      "max    2.466081e+00  2.886134e+00  2.476616e+00  2.806862e+00  2.673360e+00   \n",
      "\n",
      "             cont11        cont12        cont13        cont14  \n",
      "count  1.883180e+05  1.883180e+05  1.883180e+05  1.883180e+05  \n",
      "mean  -1.829199e-16 -8.753593e-17 -6.615000e-16 -3.664435e-16  \n",
      "std    1.000003e+00  1.000003e+00  1.000003e+00  1.000003e+00  \n",
      "min   -2.184604e+00 -2.181765e+00 -2.316558e+00 -1.420286e+00  \n",
      "25%   -8.703801e-01 -8.666038e-01 -8.336422e-01 -9.039048e-01  \n",
      "50%   -1.731129e-01 -1.473762e-01 -6.090452e-01 -3.969402e-01  \n",
      "75%    8.840306e-01  8.719477e-01  9.250844e-01  1.028851e+00  \n",
      "max    2.408891e+00  2.412945e+00  2.328058e+00  1.569220e+00  \n",
      "                  id           loss         cont1         cont2         cont3  \\\n",
      "count  188318.000000  188318.000000  1.883180e+05  1.883180e+05  1.883180e+05   \n",
      "mean   294135.982561    3037.337686 -5.761524e-16  7.341699e-16 -3.563316e-16   \n",
      "std    169336.084867    2904.086186  1.000003e+00  1.000003e+00  1.000003e+00   \n",
      "min         1.000000       0.670000 -2.631881e+00 -2.442261e+00 -2.455589e+00   \n",
      "25%    147748.250000    1204.460000 -7.875273e-01 -7.184773e-01 -8.013468e-01   \n",
      "50%    294539.500000    2115.570000 -9.634084e-02  2.345240e-01  1.438494e-01   \n",
      "75%    440680.500000    3864.045000  6.930871e-01  8.425272e-01  6.694845e-01   \n",
      "max    587633.000000  121012.250000  2.617323e+00  1.715558e+00  2.203481e+00   \n",
      "\n",
      "              cont4         cont5         cont6         cont7         cont8  \\\n",
      "count  1.883180e+05  1.883180e+05  1.883180e+05  1.883180e+05  1.883180e+05   \n",
      "mean  -4.007033e-17 -3.075832e-16  2.799641e-17 -2.746817e-17 -2.940000e-16   \n",
      "std    1.000003e+00  1.000003e+00  1.000003e+00  1.000003e+00  1.000003e+00   \n",
      "min   -1.490316e+00 -9.868842e-01 -2.329891e+00 -2.328204e+00 -1.251730e+00   \n",
      "25%   -7.783474e-01 -9.868842e-01 -7.543139e-01 -7.553681e-01 -8.709303e-01   \n",
      "50%   -1.842255e-01 -3.117298e-01 -2.435770e-01 -2.616155e-01 -2.276036e-01   \n",
      "75%    7.584762e-01  7.457784e-01  7.993124e-01  5.944241e-01  6.878805e-01   \n",
      "max    2.188845e+00  2.374086e+00  2.466081e+00  2.886134e+00  2.476616e+00   \n",
      "\n",
      "          ...      cat116_316  cat116_317  cat116_318  cat116_319  cat116_320  \\\n",
      "count     ...             0.0         0.0         0.0         0.0         0.0   \n",
      "mean      ...             NaN         NaN         NaN         NaN         NaN   \n",
      "std       ...             NaN         NaN         NaN         NaN         NaN   \n",
      "min       ...             NaN         NaN         NaN         NaN         NaN   \n",
      "25%       ...             NaN         NaN         NaN         NaN         NaN   \n",
      "50%       ...             NaN         NaN         NaN         NaN         NaN   \n",
      "75%       ...             NaN         NaN         NaN         NaN         NaN   \n",
      "max       ...             NaN         NaN         NaN         NaN         NaN   \n",
      "\n",
      "       cat116_321  cat116_322  cat116_323  cat116_324  cat116_325  \n",
      "count         0.0         0.0         0.0         0.0         0.0  \n",
      "mean          NaN         NaN         NaN         NaN         NaN  \n",
      "std           NaN         NaN         NaN         NaN         NaN  \n",
      "min           NaN         NaN         NaN         NaN         NaN  \n",
      "25%           NaN         NaN         NaN         NaN         NaN  \n",
      "50%           NaN         NaN         NaN         NaN         NaN  \n",
      "75%           NaN         NaN         NaN         NaN         NaN  \n",
      "max           NaN         NaN         NaN         NaN         NaN  \n",
      "\n",
      "[8 rows x 1155 columns]\n"
     ]
    }
   ],
   "source": [
    "encoder_dict = {\n",
    "                'BackwardDifferenceEncoder': ce.BackwardDifferenceEncoder(), \n",
    "                'BinaryEncoder': ce.BinaryEncoder(),\n",
    "                'HashingEncoder': ce.HashingEncoder(),\n",
    "                'HelmertEncoder': ce.HelmertEncoder(),\n",
    "                'OneHotEncoder': ce.OneHotEncoder(),\n",
    "                'OrdinalEncoder': ce.OrdinalEncoder(),\n",
    "                'SumEncoder': ce.SumEncoder(),\n",
    "                'PolynomialEncoder': ce.PolynomialEncoder()\n",
    "               }\n",
    "master_train_dict = {}\n",
    "master_validation_dict = {}\n",
    "\n",
    "# output = cleaned_dataframes_from_dataframe(dataframe, seed=123, encoder = ce.OrdinalEncoder())\n",
    "\n",
    "for key in encoder_dict:\n",
    "    current_encorder = encoder_dict[key]\n",
    "    master_train_df, master_validation_df = cleaned_dataframes_from_dataframe(dataframe, seed=456, encoder=current_encorder)\n",
    "    master_train_dict[key] = master_train_df\n",
    "    master_validation_dict[key] = master_validation_df"
   ]
  },
  {
   "cell_type": "code",
   "execution_count": null,
   "metadata": {
    "collapsed": true
   },
   "outputs": [],
   "source": [
    "train_df = pd.DataFrame.copy(master_train_df)\n",
    "validation_df = pd.DataFrame.copy(master_validation_df)"
   ]
  },
  {
   "cell_type": "code",
   "execution_count": 17,
   "metadata": {
    "collapsed": false
   },
   "outputs": [
    {
     "data": {
      "text/html": [
       "<div>\n",
       "<table border=\"1\" class=\"dataframe\">\n",
       "  <thead>\n",
       "    <tr style=\"text-align: right;\">\n",
       "      <th></th>\n",
       "      <th>id</th>\n",
       "      <th>loss</th>\n",
       "      <th>cont1</th>\n",
       "      <th>cont2</th>\n",
       "      <th>cont3</th>\n",
       "      <th>cont4</th>\n",
       "      <th>cont5</th>\n",
       "      <th>cont6</th>\n",
       "      <th>cont7</th>\n",
       "      <th>cont8</th>\n",
       "      <th>...</th>\n",
       "      <th>cat116_316</th>\n",
       "      <th>cat116_317</th>\n",
       "      <th>cat116_318</th>\n",
       "      <th>cat116_319</th>\n",
       "      <th>cat116_320</th>\n",
       "      <th>cat116_321</th>\n",
       "      <th>cat116_322</th>\n",
       "      <th>cat116_323</th>\n",
       "      <th>cat116_324</th>\n",
       "      <th>cat116_325</th>\n",
       "    </tr>\n",
       "  </thead>\n",
       "  <tbody>\n",
       "    <tr>\n",
       "      <th>0</th>\n",
       "      <td>1</td>\n",
       "      <td>2213.18</td>\n",
       "      <td>1.238750</td>\n",
       "      <td>-1.260936</td>\n",
       "      <td>-1.540471</td>\n",
       "      <td>1.409553</td>\n",
       "      <td>-0.848538</td>\n",
       "      <td>1.107908</td>\n",
       "      <td>-0.840070</td>\n",
       "      <td>-0.922092</td>\n",
       "      <td>...</td>\n",
       "      <td>NaN</td>\n",
       "      <td>NaN</td>\n",
       "      <td>NaN</td>\n",
       "      <td>NaN</td>\n",
       "      <td>NaN</td>\n",
       "      <td>NaN</td>\n",
       "      <td>NaN</td>\n",
       "      <td>NaN</td>\n",
       "      <td>NaN</td>\n",
       "      <td>NaN</td>\n",
       "    </tr>\n",
       "    <tr>\n",
       "      <th>1</th>\n",
       "      <td>2</td>\n",
       "      <td>1283.60</td>\n",
       "      <td>-0.870537</td>\n",
       "      <td>1.109451</td>\n",
       "      <td>0.463932</td>\n",
       "      <td>0.578923</td>\n",
       "      <td>1.906010</td>\n",
       "      <td>-0.253457</td>\n",
       "      <td>-0.271142</td>\n",
       "      <td>0.573972</td>\n",
       "      <td>...</td>\n",
       "      <td>NaN</td>\n",
       "      <td>NaN</td>\n",
       "      <td>NaN</td>\n",
       "      <td>NaN</td>\n",
       "      <td>NaN</td>\n",
       "      <td>NaN</td>\n",
       "      <td>NaN</td>\n",
       "      <td>NaN</td>\n",
       "      <td>NaN</td>\n",
       "      <td>NaN</td>\n",
       "    </tr>\n",
       "    <tr>\n",
       "      <th>2</th>\n",
       "      <td>5</td>\n",
       "      <td>3005.09</td>\n",
       "      <td>-1.236521</td>\n",
       "      <td>-0.718477</td>\n",
       "      <td>-0.072846</td>\n",
       "      <td>-1.206334</td>\n",
       "      <td>-0.432284</td>\n",
       "      <td>-0.980633</td>\n",
       "      <td>-0.949428</td>\n",
       "      <td>-1.069556</td>\n",
       "      <td>...</td>\n",
       "      <td>NaN</td>\n",
       "      <td>NaN</td>\n",
       "      <td>NaN</td>\n",
       "      <td>NaN</td>\n",
       "      <td>NaN</td>\n",
       "      <td>NaN</td>\n",
       "      <td>NaN</td>\n",
       "      <td>NaN</td>\n",
       "      <td>NaN</td>\n",
       "      <td>NaN</td>\n",
       "    </tr>\n",
       "    <tr>\n",
       "      <th>4</th>\n",
       "      <td>11</td>\n",
       "      <td>2763.85</td>\n",
       "      <td>-1.175963</td>\n",
       "      <td>-1.675658</td>\n",
       "      <td>0.143849</td>\n",
       "      <td>-0.088079</td>\n",
       "      <td>1.037383</td>\n",
       "      <td>-1.523596</td>\n",
       "      <td>-1.331256</td>\n",
       "      <td>-1.207792</td>\n",
       "      <td>...</td>\n",
       "      <td>NaN</td>\n",
       "      <td>NaN</td>\n",
       "      <td>NaN</td>\n",
       "      <td>NaN</td>\n",
       "      <td>NaN</td>\n",
       "      <td>NaN</td>\n",
       "      <td>NaN</td>\n",
       "      <td>NaN</td>\n",
       "      <td>NaN</td>\n",
       "      <td>NaN</td>\n",
       "    </tr>\n",
       "    <tr>\n",
       "      <th>5</th>\n",
       "      <td>13</td>\n",
       "      <td>5142.87</td>\n",
       "      <td>0.281436</td>\n",
       "      <td>0.842527</td>\n",
       "      <td>0.669485</td>\n",
       "      <td>-0.558452</td>\n",
       "      <td>-0.883859</td>\n",
       "      <td>-0.616161</td>\n",
       "      <td>-0.469646</td>\n",
       "      <td>-1.093281</td>\n",
       "      <td>...</td>\n",
       "      <td>NaN</td>\n",
       "      <td>NaN</td>\n",
       "      <td>NaN</td>\n",
       "      <td>NaN</td>\n",
       "      <td>NaN</td>\n",
       "      <td>NaN</td>\n",
       "      <td>NaN</td>\n",
       "      <td>NaN</td>\n",
       "      <td>NaN</td>\n",
       "      <td>NaN</td>\n",
       "    </tr>\n",
       "  </tbody>\n",
       "</table>\n",
       "<p>5 rows × 1155 columns</p>\n",
       "</div>"
      ],
      "text/plain": [
       "   id     loss     cont1     cont2     cont3     cont4     cont5     cont6  \\\n",
       "0   1  2213.18  1.238750 -1.260936 -1.540471  1.409553 -0.848538  1.107908   \n",
       "1   2  1283.60 -0.870537  1.109451  0.463932  0.578923  1.906010 -0.253457   \n",
       "2   5  3005.09 -1.236521 -0.718477 -0.072846 -1.206334 -0.432284 -0.980633   \n",
       "4  11  2763.85 -1.175963 -1.675658  0.143849 -0.088079  1.037383 -1.523596   \n",
       "5  13  5142.87  0.281436  0.842527  0.669485 -0.558452 -0.883859 -0.616161   \n",
       "\n",
       "      cont7     cont8     ...      cat116_316  cat116_317  cat116_318  \\\n",
       "0 -0.840070 -0.922092     ...             NaN         NaN         NaN   \n",
       "1 -0.271142  0.573972     ...             NaN         NaN         NaN   \n",
       "2 -0.949428 -1.069556     ...             NaN         NaN         NaN   \n",
       "4 -1.331256 -1.207792     ...             NaN         NaN         NaN   \n",
       "5 -0.469646 -1.093281     ...             NaN         NaN         NaN   \n",
       "\n",
       "   cat116_319  cat116_320  cat116_321  cat116_322  cat116_323  cat116_324  \\\n",
       "0         NaN         NaN         NaN         NaN         NaN         NaN   \n",
       "1         NaN         NaN         NaN         NaN         NaN         NaN   \n",
       "2         NaN         NaN         NaN         NaN         NaN         NaN   \n",
       "4         NaN         NaN         NaN         NaN         NaN         NaN   \n",
       "5         NaN         NaN         NaN         NaN         NaN         NaN   \n",
       "\n",
       "   cat116_325  \n",
       "0         NaN  \n",
       "1         NaN  \n",
       "2         NaN  \n",
       "4         NaN  \n",
       "5         NaN  \n",
       "\n",
       "[5 rows x 1155 columns]"
      ]
     },
     "execution_count": 17,
     "metadata": {},
     "output_type": "execute_result"
    }
   ],
   "source": [
    "# output_dict = {}\n",
    "# for key in encoder_dict:\n",
    "#     output_dict[key] = fit(master_train_dict[key], master_validation_dict[key])\n",
    "\n",
    "master_train_dict['PolynomialEncoder'].head()"
   ]
  },
  {
   "cell_type": "code",
   "execution_count": null,
   "metadata": {
    "collapsed": true
   },
   "outputs": [],
   "source": [
    "output_train, output_validation, regr, x_train, x_validation = fit(train_df, validation_df)"
   ]
  },
  {
   "cell_type": "code",
   "execution_count": null,
   "metadata": {
    "collapsed": false
   },
   "outputs": [],
   "source": [
    "messy = pd.DataFrame.copy(dataframe)\n",
    "messy = messy.ix[0:1000,:]\n",
    "type(messy)"
   ]
  },
  {
   "cell_type": "code",
   "execution_count": null,
   "metadata": {
    "collapsed": false
   },
   "outputs": [],
   "source": [
    "import category_encoders as ce\n",
    "\n",
    "enc = ce.OneHotEncoder()\n",
    "out = enc.fit_transform(messy, None)\n",
    "print(out)"
   ]
  },
  {
   "cell_type": "code",
   "execution_count": null,
   "metadata": {
    "collapsed": true
   },
   "outputs": [],
   "source": [
    "output_validation."
   ]
  },
  {
   "cell_type": "code",
   "execution_count": null,
   "metadata": {
    "collapsed": false
   },
   "outputs": [],
   "source": [
    "output_validation[['predicted_loss', 'loss', 'error']].describe()"
   ]
  },
  {
   "cell_type": "code",
   "execution_count": null,
   "metadata": {
    "collapsed": false
   },
   "outputs": [],
   "source": [
    "output_train[['predicted_loss', 'loss', 'error']].describe()"
   ]
  },
  {
   "cell_type": "code",
   "execution_count": null,
   "metadata": {
    "collapsed": false
   },
   "outputs": [],
   "source": [
    "coefficients = pd.DataFrame(list(zip(x_train.columns, regr.coef_)), columns = ['features', 'coefficients'])\n",
    "coefficients.sort('coefficients', ascending = 0)"
   ]
  },
  {
   "cell_type": "code",
   "execution_count": null,
   "metadata": {
    "collapsed": true
   },
   "outputs": [],
   "source": [
    "coefficients = pd.DataFrame(list(zip(x_train.columns, abs(regr.coef_))), columns = ['features', 'coefficients'])\n",
    "coefficients.sort('coefficients', ascending = 0)\n"
   ]
  },
  {
   "cell_type": "code",
   "execution_count": null,
   "metadata": {
    "collapsed": true
   },
   "outputs": [],
   "source": [
    "train_df_cont = train_df.ix[:,0:16]\n",
    "validation_df_cont = validation_df.ix[:,0:16]\n",
    "\n",
    "output_train_cont, output_validation_cont, regr_cont, x_train_cont, x_validation_cont = fit(train_df_cont, validation_df_cont)"
   ]
  },
  {
   "cell_type": "code",
   "execution_count": null,
   "metadata": {
    "collapsed": false
   },
   "outputs": [],
   "source": [
    "coefficients = pd.DataFrame(list(zip(x_train_cont.columns, abs(regr_cont.coef_))), columns = ['features', 'coefficients'])\n",
    "coefficients.sort('coefficients', ascending = 0)"
   ]
  },
  {
   "cell_type": "code",
   "execution_count": null,
   "metadata": {
    "collapsed": false
   },
   "outputs": [],
   "source": [
    "import category_encoders as ce\n",
    "\n",
    "encoder_dict = {'BackwardDifferenceEncoder': ce.BackwardDifferenceEncoder(), \n",
    "                'BinaryEncoder': ce.BinaryEncoder(),\n",
    "                'HashingEncoder': ce.HashingEncoder(),\n",
    "                'HelmertEncoder': ce.HelmertEncoder(),\n",
    "                'OneHotEncoder': ce.OneHotEncoder(),\n",
    "                'OrdinalEncoder': ce.OrdinalEncoder(),\n",
    "                'SumEncoder': ce.SumEncoder(),\n",
    "                'PolynomialEncoder': ce.PolynomialEncoder()\n",
    "               }\n",
    "\n",
    "# for key in encoder_dict:\n",
    "#     print(key)\n",
    "#     print(encoder_dict[key])\n",
    "\n",
    "encoder_dict.iterkeys()\n"
   ]
  },
  {
   "cell_type": "code",
   "execution_count": null,
   "metadata": {
    "collapsed": true
   },
   "outputs": [],
   "source": []
  },
  {
   "cell_type": "code",
   "execution_count": null,
   "metadata": {
    "collapsed": true
   },
   "outputs": [],
   "source": []
  }
 ],
 "metadata": {
  "anaconda-cloud": {},
  "kernelspec": {
   "display_name": "Python [py3]",
   "language": "python",
   "name": "Python [py3]"
  }
 },
 "nbformat": 4,
 "nbformat_minor": 0
}
