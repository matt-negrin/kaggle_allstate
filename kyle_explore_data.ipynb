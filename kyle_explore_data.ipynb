{
 "cells": [
  {
   "cell_type": "code",
   "execution_count": 23,
   "metadata": {
    "collapsed": true
   },
   "outputs": [],
   "source": [
    "import numpy as np\n",
    "import pandas as pd"
   ]
  },
  {
   "cell_type": "code",
   "execution_count": 2,
   "metadata": {
    "collapsed": true
   },
   "outputs": [],
   "source": [
    "loss = train_data['loss']"
   ]
  },
  {
   "cell_type": "code",
   "execution_count": 4,
   "metadata": {
    "collapsed": false
   },
   "outputs": [
    {
     "data": {
      "text/html": [
       "<div>\n",
       "<table border=\"1\" class=\"dataframe\">\n",
       "  <thead>\n",
       "    <tr style=\"text-align: right;\">\n",
       "      <th></th>\n",
       "      <th>id</th>\n",
       "      <th>cont1</th>\n",
       "      <th>cont2</th>\n",
       "      <th>cont3</th>\n",
       "      <th>cont4</th>\n",
       "      <th>cont5</th>\n",
       "      <th>cont6</th>\n",
       "      <th>cont7</th>\n",
       "      <th>cont8</th>\n",
       "      <th>cont9</th>\n",
       "      <th>cont10</th>\n",
       "      <th>cont11</th>\n",
       "      <th>cont12</th>\n",
       "      <th>cont13</th>\n",
       "      <th>cont14</th>\n",
       "      <th>loss</th>\n",
       "    </tr>\n",
       "  </thead>\n",
       "  <tbody>\n",
       "    <tr>\n",
       "      <th>count</th>\n",
       "      <td>1000.000000</td>\n",
       "      <td>1000.000000</td>\n",
       "      <td>1000.000000</td>\n",
       "      <td>1000.000000</td>\n",
       "      <td>1000.000000</td>\n",
       "      <td>1000.000000</td>\n",
       "      <td>1000.000000</td>\n",
       "      <td>1000.000000</td>\n",
       "      <td>1000.000000</td>\n",
       "      <td>1000.000000</td>\n",
       "      <td>1000.000000</td>\n",
       "      <td>1000.000000</td>\n",
       "      <td>1000.000000</td>\n",
       "      <td>1000.000000</td>\n",
       "      <td>1000.000000</td>\n",
       "      <td>1000.000000</td>\n",
       "    </tr>\n",
       "    <tr>\n",
       "      <th>mean</th>\n",
       "      <td>1626.600000</td>\n",
       "      <td>0.491910</td>\n",
       "      <td>0.512392</td>\n",
       "      <td>0.503748</td>\n",
       "      <td>0.485298</td>\n",
       "      <td>0.486026</td>\n",
       "      <td>0.489361</td>\n",
       "      <td>0.485423</td>\n",
       "      <td>0.487378</td>\n",
       "      <td>0.485281</td>\n",
       "      <td>0.497330</td>\n",
       "      <td>0.496872</td>\n",
       "      <td>0.495524</td>\n",
       "      <td>0.497577</td>\n",
       "      <td>0.500535</td>\n",
       "      <td>3165.578240</td>\n",
       "    </tr>\n",
       "    <tr>\n",
       "      <th>std</th>\n",
       "      <td>933.382365</td>\n",
       "      <td>0.188959</td>\n",
       "      <td>0.207767</td>\n",
       "      <td>0.208700</td>\n",
       "      <td>0.204593</td>\n",
       "      <td>0.211788</td>\n",
       "      <td>0.200152</td>\n",
       "      <td>0.178021</td>\n",
       "      <td>0.195156</td>\n",
       "      <td>0.183193</td>\n",
       "      <td>0.184065</td>\n",
       "      <td>0.209096</td>\n",
       "      <td>0.207811</td>\n",
       "      <td>0.209649</td>\n",
       "      <td>0.222890</td>\n",
       "      <td>2988.978322</td>\n",
       "    </tr>\n",
       "    <tr>\n",
       "      <th>min</th>\n",
       "      <td>1.000000</td>\n",
       "      <td>0.000016</td>\n",
       "      <td>0.007501</td>\n",
       "      <td>0.049453</td>\n",
       "      <td>0.176921</td>\n",
       "      <td>0.281143</td>\n",
       "      <td>0.012683</td>\n",
       "      <td>0.069503</td>\n",
       "      <td>0.236880</td>\n",
       "      <td>0.000080</td>\n",
       "      <td>0.000000</td>\n",
       "      <td>0.129738</td>\n",
       "      <td>0.129333</td>\n",
       "      <td>0.000228</td>\n",
       "      <td>0.185364</td>\n",
       "      <td>38.400000</td>\n",
       "    </tr>\n",
       "    <tr>\n",
       "      <th>25%</th>\n",
       "      <td>856.750000</td>\n",
       "      <td>0.344452</td>\n",
       "      <td>0.358319</td>\n",
       "      <td>0.336963</td>\n",
       "      <td>0.318422</td>\n",
       "      <td>0.281143</td>\n",
       "      <td>0.341638</td>\n",
       "      <td>0.352256</td>\n",
       "      <td>0.323170</td>\n",
       "      <td>0.358970</td>\n",
       "      <td>0.364580</td>\n",
       "      <td>0.327915</td>\n",
       "      <td>0.321570</td>\n",
       "      <td>0.318646</td>\n",
       "      <td>0.296403</td>\n",
       "      <td>1221.245000</td>\n",
       "    </tr>\n",
       "    <tr>\n",
       "      <th>50%</th>\n",
       "      <td>1595.000000</td>\n",
       "      <td>0.475784</td>\n",
       "      <td>0.555782</td>\n",
       "      <td>0.527991</td>\n",
       "      <td>0.452887</td>\n",
       "      <td>0.422268</td>\n",
       "      <td>0.439641</td>\n",
       "      <td>0.438164</td>\n",
       "      <td>0.446970</td>\n",
       "      <td>0.441450</td>\n",
       "      <td>0.472250</td>\n",
       "      <td>0.457203</td>\n",
       "      <td>0.462286</td>\n",
       "      <td>0.382252</td>\n",
       "      <td>0.407212</td>\n",
       "      <td>2169.610000</td>\n",
       "    </tr>\n",
       "    <tr>\n",
       "      <th>75%</th>\n",
       "      <td>2420.000000</td>\n",
       "      <td>0.623912</td>\n",
       "      <td>0.681761</td>\n",
       "      <td>0.634224</td>\n",
       "      <td>0.623770</td>\n",
       "      <td>0.666857</td>\n",
       "      <td>0.636529</td>\n",
       "      <td>0.589733</td>\n",
       "      <td>0.612290</td>\n",
       "      <td>0.581210</td>\n",
       "      <td>0.614590</td>\n",
       "      <td>0.678924</td>\n",
       "      <td>0.670715</td>\n",
       "      <td>0.689974</td>\n",
       "      <td>0.725936</td>\n",
       "      <td>4147.700000</td>\n",
       "    </tr>\n",
       "    <tr>\n",
       "      <th>max</th>\n",
       "      <td>3257.000000</td>\n",
       "      <td>0.962437</td>\n",
       "      <td>0.862654</td>\n",
       "      <td>0.944251</td>\n",
       "      <td>0.952482</td>\n",
       "      <td>0.973717</td>\n",
       "      <td>0.978887</td>\n",
       "      <td>0.999708</td>\n",
       "      <td>0.980200</td>\n",
       "      <td>0.976210</td>\n",
       "      <td>0.838140</td>\n",
       "      <td>0.988937</td>\n",
       "      <td>0.987291</td>\n",
       "      <td>0.923673</td>\n",
       "      <td>0.843907</td>\n",
       "      <td>29601.810000</td>\n",
       "    </tr>\n",
       "  </tbody>\n",
       "</table>\n",
       "</div>"
      ],
      "text/plain": [
       "                id        cont1        cont2        cont3        cont4  \\\n",
       "count  1000.000000  1000.000000  1000.000000  1000.000000  1000.000000   \n",
       "mean   1626.600000     0.491910     0.512392     0.503748     0.485298   \n",
       "std     933.382365     0.188959     0.207767     0.208700     0.204593   \n",
       "min       1.000000     0.000016     0.007501     0.049453     0.176921   \n",
       "25%     856.750000     0.344452     0.358319     0.336963     0.318422   \n",
       "50%    1595.000000     0.475784     0.555782     0.527991     0.452887   \n",
       "75%    2420.000000     0.623912     0.681761     0.634224     0.623770   \n",
       "max    3257.000000     0.962437     0.862654     0.944251     0.952482   \n",
       "\n",
       "             cont5        cont6        cont7        cont8        cont9  \\\n",
       "count  1000.000000  1000.000000  1000.000000  1000.000000  1000.000000   \n",
       "mean      0.486026     0.489361     0.485423     0.487378     0.485281   \n",
       "std       0.211788     0.200152     0.178021     0.195156     0.183193   \n",
       "min       0.281143     0.012683     0.069503     0.236880     0.000080   \n",
       "25%       0.281143     0.341638     0.352256     0.323170     0.358970   \n",
       "50%       0.422268     0.439641     0.438164     0.446970     0.441450   \n",
       "75%       0.666857     0.636529     0.589733     0.612290     0.581210   \n",
       "max       0.973717     0.978887     0.999708     0.980200     0.976210   \n",
       "\n",
       "            cont10       cont11       cont12       cont13       cont14  \\\n",
       "count  1000.000000  1000.000000  1000.000000  1000.000000  1000.000000   \n",
       "mean      0.497330     0.496872     0.495524     0.497577     0.500535   \n",
       "std       0.184065     0.209096     0.207811     0.209649     0.222890   \n",
       "min       0.000000     0.129738     0.129333     0.000228     0.185364   \n",
       "25%       0.364580     0.327915     0.321570     0.318646     0.296403   \n",
       "50%       0.472250     0.457203     0.462286     0.382252     0.407212   \n",
       "75%       0.614590     0.678924     0.670715     0.689974     0.725936   \n",
       "max       0.838140     0.988937     0.987291     0.923673     0.843907   \n",
       "\n",
       "               loss  \n",
       "count   1000.000000  \n",
       "mean    3165.578240  \n",
       "std     2988.978322  \n",
       "min       38.400000  \n",
       "25%     1221.245000  \n",
       "50%     2169.610000  \n",
       "75%     4147.700000  \n",
       "max    29601.810000  "
      ]
     },
     "execution_count": 4,
     "metadata": {},
     "output_type": "execute_result"
    }
   ],
   "source": [
    "train_data.describe()"
   ]
  },
  {
   "cell_type": "code",
   "execution_count": 5,
   "metadata": {
    "collapsed": false
   },
   "outputs": [
    {
     "data": {
      "text/plain": [
       "'cont1'"
      ]
     },
     "metadata": {},
     "output_type": "display_data"
    },
    {
     "data": {
      "image/png": "[encoded data removed]",
      "text/plain": [
       "<matplotlib.figure.Figure at 0x10e7219b0>"
      ]
     },
     "metadata": {},
     "output_type": "display_data"
    }
   ],
   "source": [
    "import numpy as np\n",
    "import matplotlib.mlab as mlab\n",
    "import matplotlib.pyplot as plt\n",
    "\n",
    "from __future__ import print_function\n",
    "from ipywidgets import interact, interactive, fixed\n",
    "import ipywidgets as widgets\n",
    "from IPython.display import display\n",
    "\n",
    "%matplotlib inline\n",
    "\n",
    "def plot(name):\n",
    "    return train_data[name].plot(kind=\"hist\")\n",
    "\n",
    "headers = [val for val in train_data[:0].columns.values.T.tolist() if \"cont\" in val]\n",
    "\n",
    "def col(col_name:'loss'):\n",
    "    plot(col_name)\n",
    "    return col_name\n",
    "xDropdown = interactive(col, col_name=headers)\n",
    "display(xDropdown)"
   ]
  },
  {
   "cell_type": "code",
   "execution_count": 22,
   "metadata": {
    "collapsed": false
   },
   "outputs": [
    {
     "data": {
      "text/plain": [
       "1000"
      ]
     },
     "execution_count": 22,
     "metadata": {},
     "output_type": "execute_result"
    }
   ],
   "source": [
    "headers = train_data[:0].columns.values.T.tolist()\n",
    "npArr = None\n",
    "matrix = np.array(train_data.as_matrix())\n",
    "cols = []\n",
    "for col in range(len(train_data[:0].columns.values.T.tolist())):\n",
    "    if \"cont\" in headers[col]:\n",
    "        cols.append(col)\n",
    "# for col in train_data.columns:\n",
    "#     print col\n",
    "npArr = matrix[:,cols]\n",
    "len(train_data['cont1'])\n",
    "len(npArr)\n",
    "# npArr\n",
    "# len(matrix)"
   ]
  },
  {
   "cell_type": "code",
   "execution_count": 19,
   "metadata": {
    "collapsed": false
   },
   "outputs": [],
   "source": [
    "from clean_data import load_dataframe_from_csv\n",
    "from clean_data import cleaned_dataframes_from_dataframe\n",
    "from regression import fit\n",
    "\n",
    "dataframe = load_dataframe_from_csv()"
   ]
  },
  {
   "cell_type": "code",
   "execution_count": 26,
   "metadata": {
    "collapsed": true
   },
   "outputs": [],
   "source": [
    "master_train_df, master_validation_df = cleaned_dataframes_from_dataframe(dataframe)"
   ]
  },
  {
   "cell_type": "code",
   "execution_count": 27,
   "metadata": {
    "collapsed": false
   },
   "outputs": [],
   "source": [
    "train_df = pd.DataFrame.copy(master_train_df)\n",
    "validation_df = pd.DataFrame.copy(master_validation_df)"
   ]
  },
  {
   "cell_type": "code",
   "execution_count": null,
   "metadata": {
    "collapsed": false
   },
   "outputs": [],
   "source": [
    "output_train, output_validation, regr = fit(train_df, validation_df)"
   ]
  }
 ],
 "metadata": {
  "kernelspec": {
   "display_name": "Python 3",
   "language": "python",
   "name": "python3"
  },
  "language_info": {
   "codemirror_mode": {
    "name": "ipython",
    "version": 3
   },
   "file_extension": ".py",
   "mimetype": "text/x-python",
   "name": "python",
   "nbconvert_exporter": "python",
   "pygments_lexer": "ipython3",
   "version": "3.5.2"
  }
 },
 "nbformat": 4,
 "nbformat_minor": 1
}
